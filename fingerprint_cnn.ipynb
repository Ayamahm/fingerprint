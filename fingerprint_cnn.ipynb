{
  "nbformat": 4,
  "nbformat_minor": 0,
  "metadata": {
    "colab": {
      "provenance": [],
      "gpuType": "T4"
    },
    "kernelspec": {
      "name": "python3",
      "display_name": "Python 3"
    },
    "language_info": {
      "name": "python"
    },
    "accelerator": "GPU"
  },
  "cells": [
    {
      "cell_type": "code",
      "execution_count": 1,
      "metadata": {
        "id": "HF8zy2hdsMt4"
      },
      "outputs": [],
      "source": [
        "#import os\n",
        "#os.environ ['KAGGLE_CONFIG_DIR']= '/content'"
      ]
    },
    {
      "cell_type": "code",
      "source": [
        "#!kaggle datasets download -d ruizgara/socofing"
      ],
      "metadata": {
        "id": "9Bd_8PIOs5a7"
      },
      "execution_count": 2,
      "outputs": []
    },
    {
      "cell_type": "code",
      "source": [
        "#!unzip \\*.zip && rm *.zip"
      ],
      "metadata": {
        "id": "kN4ep1i2s5ZT"
      },
      "execution_count": 3,
      "outputs": []
    },
    {
      "cell_type": "code",
      "source": [
        "import numpy as np\n",
        "import pandas as pd\n",
        "import seaborn as sns\n",
        "import tensorflow as tf\n",
        "import os\n",
        "import cv2\n",
        "import matplotlib.pyplot as plt"
      ],
      "metadata": {
        "id": "CRwAhKm92_af"
      },
      "execution_count": 4,
      "outputs": []
    },
    {
      "cell_type": "code",
      "source": [
        "def extract_label(img_path,train = True):\n",
        "  filename, _ = os.path.splitext(os.path.basename(img_path))\n",
        "\n",
        "  subject_id, etc = filename.split('__')\n",
        "\n",
        "  if train:\n",
        "      gender, lr, finger, _, _ = etc.split('_')\n",
        "  else:\n",
        "      gender, lr, finger, _ = etc.split('_')\n",
        "\n",
        "  gender = 0 if gender == 'M' else 1\n",
        "  lr = 0 if lr == 'Left' else 1\n",
        "\n",
        "  if finger == 'thumb':\n",
        "      finger = 0\n",
        "  elif finger == 'index':\n",
        "      finger = 1\n",
        "  elif finger == 'middle':\n",
        "      finger = 2\n",
        "  elif finger == 'ring':\n",
        "      finger = 3\n",
        "  elif finger == 'little':\n",
        "      finger = 4\n",
        "  return np.array([gender], dtype=np.uint16)\n",
        "img_size = 96\n"
      ],
      "metadata": {
        "id": "TKbSTCZU2_S-"
      },
      "execution_count": 5,
      "outputs": []
    },
    {
      "cell_type": "code",
      "source": [
        "def loading_data(path,train):\n",
        "    print(\"loading data from: \",path)\n",
        "    data = []\n",
        "    for img in os.listdir(path):\n",
        "        try:\n",
        "            img_array = cv2.imread(os.path.join(path, img), cv2.IMREAD_GRAYSCALE)\n",
        "            img_resize = cv2.resize(img_array, (img_size, img_size))\n",
        "            label = extract_label(os.path.join(path, img),train)\n",
        "            data.append([label[0], img_resize ])\n",
        "        except Exception as e:\n",
        "            pass\n",
        "    data\n",
        "    return data"
      ],
      "metadata": {
        "id": "zSmwCvyi2_OI"
      },
      "execution_count": 6,
      "outputs": []
    },
    {
      "cell_type": "code",
      "source": [
        "Real_path = \"/content/socofing/SOCOFing/Real\"\n",
        "Easy_path = \"/content/socofing/SOCOFing/Altered/Altered-Easy\"\n",
        "Medium_path = \"/content/socofing/SOCOFing/Altered/Altered-Medium\"\n",
        "Hard_path = \"/content/socofing/SOCOFing/Altered/Altered-Hard\"\n",
        "\n",
        "Easy_data = loading_data(Easy_path, train = True)\n",
        "Medium_data = loading_data(Medium_path, train = True)\n",
        "Hard_data = loading_data(Hard_path, train = True)\n",
        "test = loading_data(Real_path, train = False)\n",
        "\n",
        "data = np.concatenate([Easy_data, Medium_data, Hard_data], axis=0)\n",
        "\n",
        "del Easy_data, Medium_data, Hard_data"
      ],
      "metadata": {
        "colab": {
          "base_uri": "https://localhost:8080/"
        },
        "id": "tDX_Lq802_NC",
        "outputId": "93b3df75-fac7-4535-d81f-e5c296fd985c"
      },
      "execution_count": 7,
      "outputs": [
        {
          "output_type": "stream",
          "name": "stdout",
          "text": [
            "loading data from:  /content/socofing/SOCOFing/Altered/Altered-Easy\n",
            "loading data from:  /content/socofing/SOCOFing/Altered/Altered-Medium\n",
            "loading data from:  /content/socofing/SOCOFing/Altered/Altered-Hard\n",
            "loading data from:  /content/socofing/SOCOFing/Real\n"
          ]
        },
        {
          "output_type": "stream",
          "name": "stderr",
          "text": [
            "<__array_function__ internals>:180: VisibleDeprecationWarning: Creating an ndarray from ragged nested sequences (which is a list-or-tuple of lists-or-tuples-or ndarrays with different lengths or shapes) is deprecated. If you meant to do this, you must specify 'dtype=object' when creating the ndarray.\n"
          ]
        }
      ]
    },
    {
      "cell_type": "code",
      "source": [
        "import random\n",
        "random.shuffle(data)\n",
        "random.shuffle(test)\n",
        "data\n"
      ],
      "metadata": {
        "id": "5oRxlpn72_HT",
        "colab": {
          "base_uri": "https://localhost:8080/"
        },
        "outputId": "d323319e-004c-43bb-b8d1-7155a7b21c1e"
      },
      "execution_count": 8,
      "outputs": [
        {
          "output_type": "execute_result",
          "data": {
            "text/plain": [
              "array([[0, array([[160, 158, 158, ...,   0,   0,   0],\n",
              "                  [160, 105, 121, ...,   0,   0,   0],\n",
              "                  [160, 105, 255, ...,   0,   0,   0],\n",
              "                  ...,\n",
              "                  [  0,   0,   0, ...,   0,   0,   0],\n",
              "                  [  0,   0,   0, ...,   0,   0,   0],\n",
              "                  [  0,   0,   0, ...,   0,   0,   0]], dtype=uint8)],\n",
              "       [0, array([[160, 158, 158, ...,   0,   0,   0],\n",
              "                  [160, 105, 121, ...,   0,   0,   0],\n",
              "                  [160, 105, 255, ...,   0,   0,   0],\n",
              "                  ...,\n",
              "                  [  0,   0,   0, ...,   0,   0,   0],\n",
              "                  [  0,   0,   0, ...,   0,   0,   0],\n",
              "                  [  0,   0,   0, ...,   0,   0,   0]], dtype=uint8)],\n",
              "       [0, array([[160, 158, 158, ...,   0,   0,   0],\n",
              "                  [160, 105, 121, ...,   0,   0,   0],\n",
              "                  [160, 105, 255, ...,   0,   0,   0],\n",
              "                  ...,\n",
              "                  [  0,   0,   0, ...,   0,   0,   0],\n",
              "                  [  0,   0,   0, ...,   0,   0,   0],\n",
              "                  [  0,   0,   0, ...,   0,   0,   0]], dtype=uint8)],\n",
              "       ...,\n",
              "       [0, array([[160, 158, 158, ...,   0,   0,   0],\n",
              "                  [160, 105, 121, ...,   0,   0,   0],\n",
              "                  [160, 105, 255, ...,   0,   0,   0],\n",
              "                  ...,\n",
              "                  [  0,   0,   0, ...,   0,   0,   0],\n",
              "                  [  0,   0,   0, ...,   0,   0,   0],\n",
              "                  [  0,   0,   0, ...,   0,   0,   0]], dtype=uint8)],\n",
              "       [1, array([[160, 158, 158, ...,   0,   0,   0],\n",
              "                  [160, 105, 121, ...,   0,   0,   0],\n",
              "                  [160, 105, 255, ...,   0,   0,   0],\n",
              "                  ...,\n",
              "                  [  0,   0,   0, ...,   0,   0,   0],\n",
              "                  [  0,   0,   0, ...,   0,   0,   0],\n",
              "                  [  0,   0,   0, ...,   0,   0,   0]], dtype=uint8)],\n",
              "       [1, array([[160, 158, 158, ...,   0,   0,   0],\n",
              "                  [160, 105, 121, ...,   0,   0,   0],\n",
              "                  [160, 105, 255, ...,   0,   0,   0],\n",
              "                  ...,\n",
              "                  [  0,   0,   0, ...,   0,   0,   0],\n",
              "                  [  0,   0,   0, ...,   0,   0,   0],\n",
              "                  [  0,   0,   0, ...,   0,   0,   0]], dtype=uint8)]],\n",
              "      dtype=object)"
            ]
          },
          "metadata": {},
          "execution_count": 8
        }
      ]
    },
    {
      "cell_type": "code",
      "source": [
        "from tensorflow.keras.utils import to_categorical"
      ],
      "metadata": {
        "id": "F06yFBfk4NNY"
      },
      "execution_count": 9,
      "outputs": []
    },
    {
      "cell_type": "code",
      "source": [
        "img, labels = [], []\n",
        "for label, feature in data:\n",
        "    labels.append(label)\n",
        "    img.append(feature)\n",
        "train_data = np.array(img).reshape(-1, img_size, img_size, 1)\n",
        "train_data = train_data / 255.0\n",
        "#from keras.utils.np_utils import to_categorical\n",
        "train_labels = to_categorical(labels, num_classes = 2)"
      ],
      "metadata": {
        "id": "yjTFw1YI2_E7"
      },
      "execution_count": 10,
      "outputs": []
    },
    {
      "cell_type": "code",
      "source": [
        "del data\n",
        "train_data\n",
        "\n",
        "train_labels"
      ],
      "metadata": {
        "id": "6krZ8vr93iSH",
        "colab": {
          "base_uri": "https://localhost:8080/"
        },
        "outputId": "9023eddd-3c1e-4a6f-ac84-693dbd699d7a"
      },
      "execution_count": 11,
      "outputs": [
        {
          "output_type": "execute_result",
          "data": {
            "text/plain": [
              "array([[1., 0.],\n",
              "       [1., 0.],\n",
              "       [1., 0.],\n",
              "       ...,\n",
              "       [1., 0.],\n",
              "       [0., 1.],\n",
              "       [0., 1.]], dtype=float32)"
            ]
          },
          "metadata": {},
          "execution_count": 11
        }
      ]
    },
    {
      "cell_type": "code",
      "source": [
        "train_data.shape  , train_labels.shape"
      ],
      "metadata": {
        "colab": {
          "base_uri": "https://localhost:8080/"
        },
        "id": "oFWHik1qwNZR",
        "outputId": "406f033e-142a-4f66-dd8a-190a6e5405dc"
      },
      "execution_count": 12,
      "outputs": [
        {
          "output_type": "execute_result",
          "data": {
            "text/plain": [
              "((49270, 96, 96, 1), (49270, 2))"
            ]
          },
          "metadata": {},
          "execution_count": 12
        }
      ]
    },
    {
      "cell_type": "code",
      "source": [
        "from tensorflow.keras import Sequential\n",
        "from tensorflow.keras.layers import Conv2D, MaxPooling2D, Dense, Flatten, BatchNormalization, Dropout\n",
        "from tensorflow.keras import layers\n",
        "from tensorflow.keras import optimizers\n",
        "\n",
        "model = Sequential([\n",
        "                    Conv2D(32, 3, padding='same', activation='relu',kernel_initializer='he_uniform', input_shape = [96, 96, 1]),\n",
        "                    MaxPooling2D(2),\n",
        "                    Conv2D(32, 3, padding='same', kernel_initializer='he_uniform', activation='relu'),\n",
        "                    MaxPooling2D(2),\n",
        "                    Flatten(),\n",
        "                    Dense(128, kernel_initializer='he_uniform',activation = 'relu'),\n",
        "                    Dense(2, activation = 'softmax'),\n",
        "                    ])\n",
        "model.summary()\n"
      ],
      "metadata": {
        "colab": {
          "base_uri": "https://localhost:8080/"
        },
        "id": "BjIDTwWv3iPr",
        "outputId": "2640ae34-8fdf-4d1d-b3fd-ed2e60f31bcf"
      },
      "execution_count": 13,
      "outputs": [
        {
          "output_type": "stream",
          "name": "stdout",
          "text": [
            "Model: \"sequential\"\n",
            "_________________________________________________________________\n",
            " Layer (type)                Output Shape              Param #   \n",
            "=================================================================\n",
            " conv2d (Conv2D)             (None, 96, 96, 32)        320       \n",
            "                                                                 \n",
            " max_pooling2d (MaxPooling2  (None, 48, 48, 32)        0         \n",
            " D)                                                              \n",
            "                                                                 \n",
            " conv2d_1 (Conv2D)           (None, 48, 48, 32)        9248      \n",
            "                                                                 \n",
            " max_pooling2d_1 (MaxPoolin  (None, 24, 24, 32)        0         \n",
            " g2D)                                                            \n",
            "                                                                 \n",
            " flatten (Flatten)           (None, 18432)             0         \n",
            "                                                                 \n",
            " dense (Dense)               (None, 128)               2359424   \n",
            "                                                                 \n",
            " dense_1 (Dense)             (None, 2)                 258       \n",
            "                                                                 \n",
            "=================================================================\n",
            "Total params: 2369250 (9.04 MB)\n",
            "Trainable params: 2369250 (9.04 MB)\n",
            "Non-trainable params: 0 (0.00 Byte)\n",
            "_________________________________________________________________\n"
          ]
        }
      ]
    },
    {
      "cell_type": "code",
      "source": [
        "\n",
        "model.compile(optimizer = optimizers.Adam(1e-3), loss = 'categorical_crossentropy', metrics = ['accuracy'])\n",
        "early_stopping_cb = tf.keras.callbacks.EarlyStopping(monitor='val_loss', patience=3)\n",
        "\n",
        "\n",
        "history = model.fit(train_data, train_labels, batch_size = 128, epochs = 30,\n",
        "          validation_split = 0.2, callbacks = [early_stopping_cb], verbose = 1)\n",
        "\n"
      ],
      "metadata": {
        "colab": {
          "base_uri": "https://localhost:8080/"
        },
        "id": "3k4H9_nA3iMt",
        "outputId": "ef88585a-cf44-4b0f-d390-4fdb55f808da"
      },
      "execution_count": 14,
      "outputs": [
        {
          "output_type": "stream",
          "name": "stdout",
          "text": [
            "Epoch 1/30\n",
            "308/308 [==============================] - 16s 33ms/step - loss: 0.5849 - accuracy: 0.7940 - val_loss: 0.4048 - val_accuracy: 0.8221\n",
            "Epoch 2/30\n",
            "308/308 [==============================] - 7s 23ms/step - loss: 0.3229 - accuracy: 0.8629 - val_loss: 0.3149 - val_accuracy: 0.8709\n",
            "Epoch 3/30\n",
            "308/308 [==============================] - 7s 22ms/step - loss: 0.2030 - accuracy: 0.9229 - val_loss: 0.2077 - val_accuracy: 0.9165\n",
            "Epoch 4/30\n",
            "308/308 [==============================] - 7s 23ms/step - loss: 0.1284 - accuracy: 0.9527 - val_loss: 0.1875 - val_accuracy: 0.9269\n",
            "Epoch 5/30\n",
            "308/308 [==============================] - 7s 22ms/step - loss: 0.0816 - accuracy: 0.9711 - val_loss: 0.1423 - val_accuracy: 0.9481\n",
            "Epoch 6/30\n",
            "308/308 [==============================] - 7s 23ms/step - loss: 0.0448 - accuracy: 0.9862 - val_loss: 0.1359 - val_accuracy: 0.9538\n",
            "Epoch 7/30\n",
            "308/308 [==============================] - 7s 22ms/step - loss: 0.0317 - accuracy: 0.9910 - val_loss: 0.1156 - val_accuracy: 0.9609\n",
            "Epoch 8/30\n",
            "308/308 [==============================] - 7s 23ms/step - loss: 0.0246 - accuracy: 0.9925 - val_loss: 0.1134 - val_accuracy: 0.9664\n",
            "Epoch 9/30\n",
            "308/308 [==============================] - 7s 23ms/step - loss: 0.0149 - accuracy: 0.9960 - val_loss: 0.1100 - val_accuracy: 0.9679\n",
            "Epoch 10/30\n",
            "308/308 [==============================] - 7s 23ms/step - loss: 0.0138 - accuracy: 0.9959 - val_loss: 0.1034 - val_accuracy: 0.9713\n",
            "Epoch 11/30\n",
            "308/308 [==============================] - 7s 22ms/step - loss: 0.0181 - accuracy: 0.9945 - val_loss: 0.1677 - val_accuracy: 0.9573\n",
            "Epoch 12/30\n",
            "308/308 [==============================] - 7s 24ms/step - loss: 0.0296 - accuracy: 0.9893 - val_loss: 0.1650 - val_accuracy: 0.9479\n",
            "Epoch 13/30\n",
            "308/308 [==============================] - 7s 23ms/step - loss: 0.0092 - accuracy: 0.9975 - val_loss: 0.1070 - val_accuracy: 0.9732\n"
          ]
        }
      ]
    },
    {
      "cell_type": "code",
      "source": [
        "import pandas as pd\n",
        "import matplotlib.pyplot as plt\n",
        "pd.DataFrame(history.history).plot(figsize = (8,5))\n",
        "plt.grid(True)\n",
        "plt.gca().set_ylim(0,1)\n",
        "\n",
        "\n",
        "test\n",
        "\n",
        "\n",
        "\n",
        "test_images, test_labels = [], []\n",
        "\n",
        "for label, feature in test:\n",
        "    test_images.append(feature)\n",
        "    test_labels.append(label)\n",
        "\n",
        "test_images = np.array(test_images).reshape(-1, img_size, img_size, 1)\n",
        "test_images = test_images / 255.0\n",
        "del test\n",
        "test_labels  = to_categorical(test_labels, num_classes = 2)\n",
        "test_images\n",
        "\n",
        "\n",
        "\n",
        "model.evaluate(test_images, test_labels)"
      ],
      "metadata": {
        "colab": {
          "base_uri": "https://localhost:8080/",
          "height": 486
        },
        "id": "zz4pjgB_3iKR",
        "outputId": "4fa2fbc3-1bf5-43aa-ed86-f15e94332db0"
      },
      "execution_count": 15,
      "outputs": [
        {
          "output_type": "stream",
          "name": "stdout",
          "text": [
            "188/188 [==============================] - 1s 4ms/step - loss: 0.0319 - accuracy: 0.9933\n"
          ]
        },
        {
          "output_type": "execute_result",
          "data": {
            "text/plain": [
              "[0.031905658543109894, 0.9933333396911621]"
            ]
          },
          "metadata": {},
          "execution_count": 15
        },
        {
          "output_type": "display_data",
          "data": {
            "text/plain": [
              "<Figure size 800x500 with 1 Axes>"
            ],
            "image/png": "[encoded data removed]"
          },
          "metadata": {}
        }
      ]
    }
  ]
}